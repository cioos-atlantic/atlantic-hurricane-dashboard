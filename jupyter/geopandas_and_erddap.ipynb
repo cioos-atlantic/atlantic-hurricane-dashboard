{
 "cells": [
  {
   "cell_type": "code",
   "execution_count": 5,
   "metadata": {},
   "outputs": [],
   "source": [
    "import shapefile as shp\n",
    "import shapely\n",
    "import numpy as np\n",
    "import pandas as pd\n",
    "%matplotlib inline\n",
    "import matplotlib.pyplot as plt\n",
    "import seaborn as sns\n",
    "shapely.__version__\n",
    "#shapely.geos_capi_version_string  \n",
    "import geopandas as gpd\n",
    "import os\n",
    "import sys\n",
    "sys.path.append('../')\n",
    "from atlantic_hurricane import eccc_shapefiles"
   ]
  },
  {
   "cell_type": "code",
   "execution_count": 2,
   "metadata": {},
   "outputs": [],
   "source": [
    "sns.set(style=\"whitegrid\", palette=\"pastel\", color_codes=True) \n",
    "sns.mpl.rc(\"figure\", figsize=(10,6))"
   ]
  },
  {
   "cell_type": "code",
   "execution_count": 3,
   "metadata": {},
   "outputs": [],
   "source": [
    "#opening the vector map\n",
    "shp_path = eccc_shapefiles.dl_shapefile('20220921_1200Z_FIONA.err.shp')\n",
    "#reading the shape file by using reader function of the shape lib\n",
    "sf = shp.Reader(shp_path)"
   ]
  },
  {
   "cell_type": "code",
   "execution_count": 4,
   "metadata": {},
   "outputs": [
    {
     "data": {
      "image/png": "[encoded data removed]",
      "text/plain": [
       "<Figure size 1000x600 with 1 Axes>"
      ]
     },
     "metadata": {},
     "output_type": "display_data"
    }
   ],
   "source": [
    "err1= gpd.read_file(shp_path)\n",
    "err1.plot(cmap= \"coolwarm\")\n",
    "plt.show()"
   ]
  },
  {
   "cell_type": "code",
   "execution_count": 6,
   "metadata": {},
   "outputs": [],
   "source": [
    "#data_path= r\"C:\\Users\\ceboigbe.adm\\Documents\\GitHub\\atlantic-hurricane-dashboard\\shapefiles\\atlantic_canada_boundary.shp\"\n",
    "shapefiles_dir = os.path.abspath(os.path.join('..', 'shapefiles'))\n",
    "data_path = os.path.join(shapefiles_dir, 'atlantic_canada_boundary.shp')\n",
    "atlantic_data=gpd.read_file(data_path)\n",
    "\n",
    "can_hurricane_boundary= os.path.join(shapefiles_dir, 'hurricane_response_boundary.shp')\n",
    "can_hurricane=gpd.read_file(can_hurricane_boundary)"
   ]
  },
  {
   "cell_type": "code",
   "execution_count": 8,
   "metadata": {},
   "outputs": [
    {
     "ename": "ImportError",
     "evalue": "Spatial indexes require either `rtree` or `pygeos`. See installation instructions at https://geopandas.org/install.html",
     "output_type": "error",
     "traceback": [
      "\u001b[0;31m---------------------------------------------------------------------------\u001b[0m",
      "\u001b[0;31mImportError\u001b[0m                               Traceback (most recent call last)",
      "Cell \u001b[0;32mIn[8], line 1\u001b[0m\n\u001b[0;32m----> 1\u001b[0m intersect_overlay_1\u001b[39m=\u001b[39m gpd\u001b[39m.\u001b[39;49moverlay(atlantic_data, err1, how\u001b[39m=\u001b[39;49m\u001b[39m'\u001b[39;49m\u001b[39mintersection\u001b[39;49m\u001b[39m'\u001b[39;49m)\n\u001b[1;32m      2\u001b[0m intersect_overlay\u001b[39m=\u001b[39m gpd\u001b[39m.\u001b[39moverlay(intersect_overlay_1, can_hurricane, how\u001b[39m=\u001b[39m\u001b[39m'\u001b[39m\u001b[39mintersection\u001b[39m\u001b[39m'\u001b[39m)\n\u001b[1;32m      3\u001b[0m intersect_overlay\u001b[39m.\u001b[39mbounds\n",
      "File \u001b[0;32m~/miniconda3/envs/hurricane/lib/python3.9/site-packages/geopandas/tools/overlay.py:317\u001b[0m, in \u001b[0;36moverlay\u001b[0;34m(df1, df2, how, keep_geom_type, make_valid)\u001b[0m\n\u001b[1;32m    315\u001b[0m     result \u001b[39m=\u001b[39m _overlay_difference(df1, df2)\n\u001b[1;32m    316\u001b[0m \u001b[39melif\u001b[39;00m how \u001b[39m==\u001b[39m \u001b[39m\"\u001b[39m\u001b[39mintersection\u001b[39m\u001b[39m\"\u001b[39m:\n\u001b[0;32m--> 317\u001b[0m     result \u001b[39m=\u001b[39m _overlay_intersection(df1, df2)\n\u001b[1;32m    318\u001b[0m \u001b[39melif\u001b[39;00m how \u001b[39m==\u001b[39m \u001b[39m\"\u001b[39m\u001b[39msymmetric_difference\u001b[39m\u001b[39m\"\u001b[39m:\n\u001b[1;32m    319\u001b[0m     result \u001b[39m=\u001b[39m _overlay_symmetric_diff(df1, df2)\n",
      "File \u001b[0;32m~/miniconda3/envs/hurricane/lib/python3.9/site-packages/geopandas/tools/overlay.py:30\u001b[0m, in \u001b[0;36m_overlay_intersection\u001b[0;34m(df1, df2)\u001b[0m\n\u001b[1;32m     26\u001b[0m \u001b[39m\u001b[39m\u001b[39m\"\"\"\u001b[39;00m\n\u001b[1;32m     27\u001b[0m \u001b[39mOverlay Intersection operation used in overlay function\u001b[39;00m\n\u001b[1;32m     28\u001b[0m \u001b[39m\"\"\"\u001b[39;00m\n\u001b[1;32m     29\u001b[0m \u001b[39m# Spatial Index to create intersections\u001b[39;00m\n\u001b[0;32m---> 30\u001b[0m idx1, idx2 \u001b[39m=\u001b[39m df2\u001b[39m.\u001b[39;49msindex\u001b[39m.\u001b[39mquery_bulk(df1\u001b[39m.\u001b[39mgeometry, predicate\u001b[39m=\u001b[39m\u001b[39m\"\u001b[39m\u001b[39mintersects\u001b[39m\u001b[39m\"\u001b[39m, sort\u001b[39m=\u001b[39m\u001b[39mTrue\u001b[39;00m)\n\u001b[1;32m     31\u001b[0m \u001b[39m# Create pairs of geometries in both dataframes to be intersected\u001b[39;00m\n\u001b[1;32m     32\u001b[0m \u001b[39mif\u001b[39;00m idx1\u001b[39m.\u001b[39msize \u001b[39m>\u001b[39m \u001b[39m0\u001b[39m \u001b[39mand\u001b[39;00m idx2\u001b[39m.\u001b[39msize \u001b[39m>\u001b[39m \u001b[39m0\u001b[39m:\n",
      "File \u001b[0;32m~/miniconda3/envs/hurricane/lib/python3.9/site-packages/geopandas/base.py:2788\u001b[0m, in \u001b[0;36mGeoPandasBase.sindex\u001b[0;34m(self)\u001b[0m\n\u001b[1;32m   2737\u001b[0m \u001b[39m@property\u001b[39m\n\u001b[1;32m   2738\u001b[0m \u001b[39mdef\u001b[39;00m \u001b[39msindex\u001b[39m(\u001b[39mself\u001b[39m):\n\u001b[1;32m   2739\u001b[0m \u001b[39m    \u001b[39m\u001b[39m\"\"\"Generate the spatial index\u001b[39;00m\n\u001b[1;32m   2740\u001b[0m \n\u001b[1;32m   2741\u001b[0m \u001b[39m    Creates R-tree spatial index based on ``pygeos.STRtree`` or\u001b[39;00m\n\u001b[0;32m   (...)\u001b[0m\n\u001b[1;32m   2786\u001b[0m \u001b[39m           [2]])\u001b[39;00m\n\u001b[1;32m   2787\u001b[0m \u001b[39m    \"\"\"\u001b[39;00m\n\u001b[0;32m-> 2788\u001b[0m     \u001b[39mreturn\u001b[39;00m \u001b[39mself\u001b[39;49m\u001b[39m.\u001b[39;49mgeometry\u001b[39m.\u001b[39;49mvalues\u001b[39m.\u001b[39;49msindex\n",
      "File \u001b[0;32m~/miniconda3/envs/hurricane/lib/python3.9/site-packages/geopandas/array.py:295\u001b[0m, in \u001b[0;36mGeometryArray.sindex\u001b[0;34m(self)\u001b[0m\n\u001b[1;32m    292\u001b[0m \u001b[39m@property\u001b[39m\n\u001b[1;32m    293\u001b[0m \u001b[39mdef\u001b[39;00m \u001b[39msindex\u001b[39m(\u001b[39mself\u001b[39m):\n\u001b[1;32m    294\u001b[0m     \u001b[39mif\u001b[39;00m \u001b[39mself\u001b[39m\u001b[39m.\u001b[39m_sindex \u001b[39mis\u001b[39;00m \u001b[39mNone\u001b[39;00m:\n\u001b[0;32m--> 295\u001b[0m         \u001b[39mself\u001b[39m\u001b[39m.\u001b[39m_sindex \u001b[39m=\u001b[39m _get_sindex_class()(\u001b[39mself\u001b[39m\u001b[39m.\u001b[39mdata)\n\u001b[1;32m    296\u001b[0m     \u001b[39mreturn\u001b[39;00m \u001b[39mself\u001b[39m\u001b[39m.\u001b[39m_sindex\n",
      "File \u001b[0;32m~/miniconda3/envs/hurricane/lib/python3.9/site-packages/geopandas/sindex.py:21\u001b[0m, in \u001b[0;36m_get_sindex_class\u001b[0;34m()\u001b[0m\n\u001b[1;32m     19\u001b[0m \u001b[39mif\u001b[39;00m compat\u001b[39m.\u001b[39mHAS_RTREE:\n\u001b[1;32m     20\u001b[0m     \u001b[39mreturn\u001b[39;00m RTreeIndex\n\u001b[0;32m---> 21\u001b[0m \u001b[39mraise\u001b[39;00m \u001b[39mImportError\u001b[39;00m(\n\u001b[1;32m     22\u001b[0m     \u001b[39m\"\u001b[39m\u001b[39mSpatial indexes require either `rtree` or `pygeos`. \u001b[39m\u001b[39m\"\u001b[39m\n\u001b[1;32m     23\u001b[0m     \u001b[39m\"\u001b[39m\u001b[39mSee installation instructions at https://geopandas.org/install.html\u001b[39m\u001b[39m\"\u001b[39m\n\u001b[1;32m     24\u001b[0m )\n",
      "\u001b[0;31mImportError\u001b[0m: Spatial indexes require either `rtree` or `pygeos`. See installation instructions at https://geopandas.org/install.html"
     ]
    }
   ],
   "source": [
    "intersect_overlay_1= gpd.overlay(atlantic_data, err1, how='intersection')\n",
    "intersect_overlay= gpd.overlay(intersect_overlay_1, can_hurricane, how='intersection')\n",
    "intersect_overlay.bounds"
   ]
  },
  {
   "cell_type": "code",
   "execution_count": null,
   "metadata": {},
   "outputs": [],
   "source": [
    "#get built in dataset\n",
    "world_data= gpd.read_file(gpd.datasets.get_path(\"naturalearth_lowres\"))\n",
    "\n",
    "#plot world map\n",
    "axis= world_data[world_data.continent==\"North America\"].plot(\n",
    "    color=\"lightblue\",edgecolor= \"blue\"\n",
    ")\n",
    "\n",
    "#shp_can.plot(ax=axis, color= \"grey\")\n",
    "\n",
    "#plotting_data\n",
    "#err1.plot(ax=(shp_can.plot(ax=axis, color= \"grey\")), color= \"grey\")\n",
    "can_hurricane.plot(ax= axis, edgecolor= \"blue\",color=\"None\")\n",
    "atlantic_data.plot(ax= axis, edgecolor= \"black\",color=\"None\")\n",
    "err1.plot(ax= axis, edgecolor= \"black\",color=\"grey\")\n",
    "intersect_overlay_1.plot(ax= axis, edgecolor= \"red\",color=\"blue\")\n",
    "intersect_overlay.plot(ax= axis, edgecolor= \"red\",color=\"brown\")\n",
    "plt.title(\"Testing\")"
   ]
  },
  {
   "cell_type": "code",
   "execution_count": null,
   "metadata": {},
   "outputs": [],
   "source": [
    "# Getting bounds for the spatial boundary\n",
    "boundary= intersect_overlay.bounds\n",
    "boundary_list= boundary.values.tolist()\n",
    "list_for_dict= boundary_list[0]\n",
    "original_dict= {\n",
    "    \"min_lon\": \"\" ,\n",
    "    \"max_lon\":\"\",\n",
    "    \"min_lat\": \"\",\n",
    "    \"max_lat\": \"\",\n",
    "   \n",
    "    \n",
    "}\n",
    "start_of_the_storm= \"2022-09-15T00:00:00Z\"\n",
    "time_list = [start_of_the_storm]\n",
    "time_dict= { \"max_time>=\":\"\",}\n",
    "\n",
    "#other_stuff= {\"standard_name\": \"wind_speed\",}\n",
    "\n",
    "time_boundaries= dict(zip(time_dict, time_list))\n",
    "spatial_boundaries = dict(zip(original_dict, list_for_dict))\n",
    "\n",
    "time_boundaries"
   ]
  },
  {
   "cell_type": "code",
   "execution_count": null,
   "metadata": {},
   "outputs": [],
   "source": [
    "boundary= spatial_boundaries | time_boundaries\n",
    "boundary"
   ]
  },
  {
   "cell_type": "code",
   "execution_count": null,
   "metadata": {},
   "outputs": [],
   "source": [
    "from erddapy import ERDDAP\n",
    "from erddapy.doc_helpers import show_iframe\n",
    "e = ERDDAP(\n",
    "  server=\"https://cioosatlantic.ca/erddap\",\n",
    "  protocol=\"tabledap\",)\n",
    "\n",
    "kw= boundary\n",
    "\n",
    "search_url = e.get_search_url(response=\"csv\", **kw)\n",
    "search = pd.read_csv(search_url)\n",
    "stations_in_boundary = search[\"Dataset ID\"].values\n",
    "print (stations_in_boundary)\n",
    "\n",
    "len(stations_in_boundary)"
   ]
  },
  {
   "attachments": {},
   "cell_type": "markdown",
   "metadata": {},
   "source": [
    "### Functions\n"
   ]
  },
  {
   "cell_type": "code",
   "execution_count": null,
   "metadata": {},
   "outputs": [],
   "source": [
    "#filter_by_date_list is initialized to an empty list at start of code\n",
    "#This filters through the metadata of each data id in the list to check if data is within\n",
    "#scope required.\n",
    "#It returns a new list of data_id's that have data that falls within our required scope\n",
    "def filter_by_date(min_time, data_id, filter_by_date_list):\n",
    "    info_url = e.get_info_url(dataset_id=data_id, response=\"csv\")\n",
    "    info= pd.read_csv(info_url)\n",
    "    time_attribute_list= [\"time_coverage_end\"]\n",
    "    time_end_df = info[info['Attribute Name'].isin(time_attribute_list)]\n",
    "\n",
    "\n",
    "    time_end_list= time_end_df[\"Value\"].values.tolist()\n",
    "    time_end_list\n",
    "    if time_end_list[0]>= min_time:\n",
    "        filter_by_date_list.append(data_id)\n",
    "\n",
    "    return filter_by_date_list\n",
    "\n",
    "\n",
    "\n",
    "# This produces a filtered list of the variable names, this goes through each data set id \n",
    "# to produce a list used as input for the check_for_variable_name function\n",
    "# \n",
    "def retrieve_attr_from_metadata(data_id):\n",
    "    info_url = e.get_info_url(dataset_id=data_id, response=\"csv\")\n",
    "    info_df= pd.read_csv(info_url)\n",
    "    column_search_words= [\"variable\"]\n",
    "    filtered_df = info_df[info_df['Row Type'].isin(column_search_words)]\n",
    "    filtered_list= filtered_df[\"Variable Name\"].values.tolist()\n",
    "    return filtered_list\n",
    "\n",
    "\n",
    "#dict_with_constraints is initialized to an empty dict at start of code\n",
    "#this code checks for the variable list and compares it with the list of \n",
    "#variable names that we are interested in and saves the intersection in a list called checklist\n",
    "#It checks if the list has more than 3 values (longitude, latitude, and time) and pairs it in\n",
    "#a dictionary with the data_id to be retrieved for variables that can be set \n",
    "#as e.variables and used to retrieve data in get request\n",
    "def check_for_variable_name(filtered_list, variable_name_list, dict_with_variables, data_id):\n",
    "    #check_list= list(set(filtered_list).intersection(variable_name_list))\n",
    "    check_list= [value for value in variable_name_list if value in filtered_list]\n",
    "    if len(check_list)> 3:\n",
    "        dict_with_variables.__setitem__(data_id, check_list)\n",
    "    else:\n",
    "        dict_with_variables.__setitem__(data_id, \"empty\")\n",
    "    \n",
    "    \n",
    "    return dict_with_variables\n",
    "#work on editing this function so if the station doesnt have any of the variable we need, it skips it\n",
    "# try using a try except block that if the key/value pair is \"empty\", it skips over that station\n",
    "\n",
    "\n",
    "\n",
    "# result dict should be initialized to 0\n",
    "# This pulls data for each data id and returns a dictionary with the data_id and \n",
    "# the data requested.\n",
    "def pull_data(data_id, dict_with_variables, result_dictionary):\n",
    "    time_constraint= {'time>=': '2022-09-15T00:00:00Z',\n",
    "                      'time<=': '2022-09-30T00:00:00Z'}\n",
    "    \n",
    "    if dict_with_variables[data_id]== \"empty\":\n",
    "        return\n",
    "    else:\n",
    "        urls= e.get_download_url(dataset_id= data_id, \n",
    "                                 variables=dict_with_variables[data_id], \n",
    "                                 constraints=time_constraint)\n",
    "    csv_urls= urls.replace(\"html\", \"csv\")\n",
    "    urls_df= pd.read_csv(csv_urls)\n",
    "    \n",
    "    #time_constraint= {\"min_time\": '2022-09-15T00:00:00Z'}- NOT USEABLE\n",
    "    \n",
    "\n",
    "    \n",
    "    \n",
    "    result_dictionary.__setitem__(data_id, urls_df)\n",
    "\n",
    "    return result_dictionary\n",
    "\n",
    "\n",
    "\n",
    "\n",
    "\n"
   ]
  },
  {
   "cell_type": "markdown",
   "metadata": {},
   "source": [
    "### Variable List"
   ]
  },
  {
   "cell_type": "code",
   "execution_count": null,
   "metadata": {},
   "outputs": [],
   "source": [
    "variable_list= ['latitude', 'longitude', 'time', 'wind_bearing',\n",
    " 'wind_dir',\n",
    " 'wind_dir2_avg',\n",
    " 'wind_dir_avg',\n",
    " 'wind_dir_deci_deg',\n",
    " 'wind_dir_sd',\n",
    " 'wind_direction',\n",
    " 'wind_from_direction',\n",
    " 'wind_from_direction_15min_average',\n",
    " 'wind_max',\n",
    " 'wind_min',\n",
    " 'wind_scalar_avg',\n",
    " 'wind_spd2_avg',\n",
    " 'wind_spd2_max',\n",
    " 'wind_spd_avg',\n",
    " 'wind_spd_gust',\n",
    " 'wind_spd_gust_dir',\n",
    " 'wind_spd_max',\n",
    " 'wind_spd_max_dir',\n",
    " 'wind_spd_sustained',\n",
    " 'wind_speed',\n",
    " 'wind_speed_15min_average',\n",
    " 'wind_speed_15min_max',\n",
    " 'wind_speed_15min_median',\n",
    " 'wind_speed_2min_max',\n",
    " 'average_wave_height',\n",
    " 'max_wave_height',\n",
    " 'mean_wave_period',\n",
    " 'peak_wave_period',\n",
    " 'satacs0020_acs_a_wavelengths',\n",
    " 'satacs0020_acs_a_wavelengths_data',\n",
    " 'satacs0020_acs_aref_wavelengths',\n",
    " 'satacs0020_acs_aref_wavelengths_data',\n",
    " 'satacs0020_acs_asig_wavelengths',\n",
    " 'satacs0020_acs_asig_wavelengths_data',\n",
    " 'satacs0020_acs_c_wavelengths',\n",
    " 'satacs0020_acs_c_wavelengths_data',\n",
    " 'satacs0020_acs_cref_wavelengths',\n",
    " 'satacs0020_acs_cref_wavelengths_data',\n",
    " 'satacs0020_acs_csig_wavelengths',\n",
    " 'satacs0020_acs_csig_wavelengths_data',\n",
    " 'satfl30338_phyto_wavelengths',\n",
    " 'satfl30338_phyto_wavelengths_data',\n",
    " 'satfl30338_ref_phyto_wavelengths',\n",
    " 'satfl30338_ref_phyto_wavelengths_data',\n",
    " 'sathed0211_es_wavelengths',\n",
    " 'sathed0211_es_wavelengths_data',\n",
    " 'sathse0211_es_wavelengths',\n",
    " 'sathse0211_es_wavelengths_data',\n",
    " 'satstx0016_aux_wavelengths',\n",
    " 'satstx0016_aux_wavelengths_data',\n",
    " 'satvsf0113_blue_wavelengths',\n",
    " 'satvsf0113_blue_wavelengths_data',\n",
    " 'satvsf0113_green_wavelengths',\n",
    " 'satvsf0113_green_wavelengths_data',\n",
    " 'satvsf0113_red_wavelengths',\n",
    " 'satvsf0113_red_wavelengths_data',\n",
    " 'sea_surface_wave_maximum_period',\n",
    " 'sea_surface_wave_significant_height',\n",
    " 'significant_wave_height',\n",
    " 'significant_wave_period',\n",
    " 'wave_dir_avg',\n",
    " 'wave_ht_max',\n",
    " 'wave_ht_sig',\n",
    " 'wave_mean_direction',\n",
    " 'wave_mean_directional_spread',\n",
    " 'wave_mean_period',\n",
    " 'wave_peak_direction',\n",
    " 'wave_peak_directional_spread',\n",
    " 'wave_peak_period',\n",
    " 'wave_period_max',\n",
    " 'wave_significant_height',\n",
    " 'wave_spread_avg',\n",
    " 'air_pres',\n",
    " 'air_pressure',\n",
    " 'air_pressure_avg',\n",
    " 'air_pressure_raw',\n",
    " 'prespr01',\n",
    " 'pressure_dbar',\n",
    " 'qpres_01',\n",
    " 'satacs0020_acs_pressure',\n",
    " 'satctd7229_pres',\n",
    " 'sea_water_pressure',\n",
    " 'water_pressure']"
   ]
  },
  {
   "attachments": {},
   "cell_type": "markdown",
   "metadata": {},
   "source": [
    "## Empty dicts and Lists"
   ]
  },
  {
   "cell_type": "code",
   "execution_count": null,
   "metadata": {},
   "outputs": [],
   "source": [
    "filter_by_date_list= []\n",
    "dict_with_variables= {}\n",
    "result_dict2= {}\n",
    "result_dictionary= {}"
   ]
  },
  {
   "cell_type": "code",
   "execution_count": null,
   "metadata": {},
   "outputs": [],
   "source": [
    "for station_data_id in stations_in_boundary:\n",
    "    time_filtered_list= filter_by_date(start_of_the_storm, \n",
    "                   station_data_id, \n",
    "                   filter_by_date_list)\n"
   ]
  },
  {
   "cell_type": "code",
   "execution_count": null,
   "metadata": {},
   "outputs": [],
   "source": [
    "for data_id in time_filtered_list:\n",
    "    data_id_variables_list= retrieve_attr_from_metadata(data_id)\n",
    "    variable_dict= check_for_variable_name(data_id_variables_list, \n",
    "                            variable_list, \n",
    "                            dict_with_variables, \n",
    "                            data_id)\n",
    "    final_result_dict= pull_data(data_id, \n",
    "                                 dict_with_variables, \n",
    "                                 result_dict2)\n"
   ]
  },
  {
   "cell_type": "code",
   "execution_count": null,
   "metadata": {},
   "outputs": [],
   "source": [
    "final_result_dict"
   ]
  }
 ],
 "metadata": {
  "kernelspec": {
   "display_name": "hurry_venv",
   "language": "python",
   "name": "python3"
  },
  "language_info": {
   "codemirror_mode": {
    "name": "ipython",
    "version": 3
   },
   "file_extension": ".py",
   "mimetype": "text/x-python",
   "name": "python",
   "nbconvert_exporter": "python",
   "pygments_lexer": "ipython3",
   "version": "3.9.16"
  },
  "orig_nbformat": 4
 },
 "nbformat": 4,
 "nbformat_minor": 2
}
